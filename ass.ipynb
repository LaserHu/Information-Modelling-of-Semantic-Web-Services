{
 "cells": [
  {
   "cell_type": "code",
   "execution_count": 33,
   "metadata": {},
   "outputs": [],
   "source": [
    "import rdflib\n",
    "from rdflib import Namespace"
   ]
  },
  {
   "cell_type": "code",
   "execution_count": null,
   "metadata": {},
   "outputs": [],
   "source": []
  },
  {
   "cell_type": "code",
   "execution_count": 34,
   "metadata": {},
   "outputs": [],
   "source": [
    "owlNS = Namespace(\"http://www.w3.org/2002/07/owl#\")\n",
    "owlClass = owlNS[\"Class\"]\n",
    "owlObjectProperty = owlNS[\"ObjectProperty\"]\n",
    "owlDatatypeProperty = owlNS[\"DatatypeProperty\"]\n",
    "rdfNS = Namespace(\"http://www.w3.org/1999/02/22-rdf-syntax-ns#\") \n",
    "rdfProperty = rdfNS[\"Property\"]\n",
    "rdfType = rdfNS[\"type\"]\n",
    "rdfsNS = Namespace(\"http://www.w3.org/2000/01/rdf-schema#\")\n",
    "rdfsSubClassOf = rdfsNS[\"subClassOf\"]\n",
    "rdfsDomain = rdfsNS[\"domain\"]\n",
    "rdfsRange = rdfsNS[\"range\"]\n",
    "xsdNS = Namespace(\"http://www.w3.org/2001/XMLSchema#\") \n",
    "xsdString = xsdNS[\"string\"]\n",
    "xsdDouble = xsdNS[\"double\"]\n",
    "xsdInt = xsdNS[\"int\"]\n",
    "xsdDateTime = xsdNS[\"dateTime\"]"
   ]
  },
  {
   "cell_type": "code",
   "execution_count": 35,
   "metadata": {},
   "outputs": [],
   "source": [
    "coffeeNS = Namespace(\"http://www.coffeeshop.com/coffee#\")\n",
    "#Defining the classes\n",
    "coffeeClass = coffeeNS['Coffee']\n",
    "\n",
    "orderClass = coffeeNS['Order']\n",
    "paymentClass = coffeeNS['Payment']\n",
    "personClass = coffeeNS['Person']\n",
    "customerClass = coffeeNS['Customer']\n",
    "staffClass = coffeeNS['Staff']\n",
    "baristaClass = coffeeNS['Barista']\n",
    "cashierCLass = coffeeNS['Cashier']"
   ]
  },
  {
   "cell_type": "code",
   "execution_count": 36,
   "metadata": {},
   "outputs": [],
   "source": [
    "#Defining properties\n",
    "type = coffeeNS['type']\n",
    "cost = coffeeNS['cost']\n",
    "size = coffeeNS['size']\n",
    "orderID = coffeeNS['orderID']\n",
    "orderTime = coffeeNS['orderTime']\n",
    "orderStatus = coffeeNS['orderStatus']\n",
    "hasRole = coffeeNS['hasRole']\n",
    "staffID = coffeeNS['staffID']"
   ]
  },
  {
   "cell_type": "code",
   "execution_count": 37,
   "metadata": {},
   "outputs": [],
   "source": [
    "#Defining triples\n",
    "classTriples = [\n",
    "# class declarations:\n",
    "(coffeeNS['Object'], rdfType, owlClass), \n",
    "(coffeeNS['Staff'], rdfType, owlClass),\n",
    "(coffeeNS['Cashier'], rdfType, owlClass), \n",
    "(coffeeNS['Barista'], rdfType, owlClass), \n",
    "(coffeeNS['Customer'], rdfType, owlClass), \n",
    "(coffeeNS['Person'], rdfType, owlClass), \n",
    "(coffeeNS['Order'], rdfType, owlClass), \n",
    "(coffeeNS['Payment'], rdfType, owlClass), \n",
    "(coffeeNS['Coffee'], rdfType, owlClass) ]"
   ]
  },
  {
   "cell_type": "code",
   "execution_count": 38,
   "metadata": {},
   "outputs": [],
   "source": [
    "classHeirarchyTriples = [\n",
    "# class heirarchy:\n",
    "(coffeeNS['Person'], rdfsSubClassOf,coffeeNS['Object']),\n",
    "(coffeeNS['Order'], rdfsSubClassOf, coffeeNS['Object']), \n",
    "(coffeeNS['Coffee'], rdfsSubClassOf, coffeeNS['Object']), \n",
    "(coffeeNS['Payment'], rdfsSubClassOf, coffeeNS['Object']), \n",
    "(coffeeNS['Entry'], rdfsSubClassOf, coffeeNS['Object']), \n",
    "(coffeeNS['Customer'], rdfsSubClassOf, coffeeNS['Person']), \n",
    "(coffeeNS['Staff'], rdfsSubClassOf, coffeeNS['Person']), \n",
    "(coffeeNS['Cashier'], rdfsSubClassOf, coffeeNS['Staff']), \n",
    "(coffeeNS['Barista'], rdfsSubClassOf, coffeeNS['Staff'])]"
   ]
  },
  {
   "cell_type": "code",
   "execution_count": 39,
   "metadata": {},
   "outputs": [],
   "source": [
    "propertyTriples = [\n",
    "(coffeeNS['type'], rdfType, owlDatatypeProperty), \n",
    "(coffeeNS['type'], rdfsDomain, coffeeNS['Coffee']), \n",
    "(coffeeNS['type'], rdfsRange, xsdString),\n",
    "    \n",
    "(coffeeNS['cost'], rdfType, owlDatatypeProperty), \n",
    "(coffeeNS['cost'], rdfsDomain, coffeeNS['Coffee']), \n",
    "(coffeeNS['cost'], rdfsRange, xsdDouble),\n",
    "\n",
    "(coffeeNS['size'], rdfType, owlDatatypeProperty), \n",
    "(coffeeNS['size'], rdfsDomain, coffeeNS['Coffee']), \n",
    "(coffeeNS['size'], rdfsRange, xsdString),\n",
    "    \n",
    "(coffeeNS['coffeeType'], rdfType, owlDatatypeProperty), \n",
    "(coffeeNS['coffeeType'], rdfsDomain, coffeeNS['Order']), \n",
    "(coffeeNS['coffeeType'], rdfsRange, xsdDouble),\n",
    "    \n",
    "(coffeeNS['orderCost'], rdfType, owlDatatypeProperty), \n",
    "(coffeeNS['orderCost'], rdfsDomain, coffeeNS['Order']), \n",
    "(coffeeNS['orderCost'], rdfsRange, xsdDouble),\n",
    "    \n",
    "(coffeeNS['quantity'], rdfType, owlDatatypeProperty), \n",
    "(coffeeNS['quantity'], rdfsDomain, coffeeNS['Order']), \n",
    "(coffeeNS['quantity'], rdfsRange, xsdInt),\n",
    "    \n",
    "(coffeeNS['paymentStatus'], rdfType, owlDatatypeProperty), \n",
    "(coffeeNS['paymentStatus'], rdfsDomain, coffeeNS['Order']), \n",
    "(coffeeNS['paymentStatus'], rdfsRange, xsdString),\n",
    "    \n",
    "(coffeeNS['finishStatus'], rdfType, owlDatatypeProperty), \n",
    "(coffeeNS['finishStatus'], rdfsDomain, coffeeNS['Order']), \n",
    "(coffeeNS['finishStatus'], rdfsRange, xsdString),\n",
    "    \n",
    "(coffeeNS['customer'], rdfType, owlDatatypeProperty), \n",
    "(coffeeNS['customer'], rdfsDomain, coffeeNS['Order']), \n",
    "(coffeeNS['customer'], rdfsRange, xsdString),\n",
    "\n",
    "(coffeeNS['orderID'], rdfType, owlDatatypeProperty), \n",
    "(coffeeNS['orderID'], rdfsDomain, coffeeNS['Order']), \n",
    "(coffeeNS['orderID'], rdfsRange, xsdInt),\n",
    "    \n",
    "(coffeeNS['orderTime'], rdfType, owlDatatypeProperty), \n",
    "(coffeeNS['orderTime'], rdfsDomain, coffeeNS['Order']), \n",
    "(coffeeNS['orderTime'], rdfsRange, xsdDateTime),\n",
    "    \n",
    "(coffeeNS['paidFor'], rdfType, owlDatatypeProperty), \n",
    "(coffeeNS['paidFor'], rdfsDomain, coffeeNS['Payment']), \n",
    "(coffeeNS['paidFor'], rdfsRange, coffeeNS['Order']),\n",
    "    \n",
    "(coffeeNS['paymentID'], rdfType, owlDatatypeProperty), \n",
    "(coffeeNS['paymentID'], rdfsDomain, coffeeNS['Payment']), \n",
    "(coffeeNS['paymentID'], rdfsRange, xsdInt),\n",
    "    \n",
    "(coffeeNS['amount'], rdfType, owlDatatypeProperty), \n",
    "(coffeeNS['amount'], rdfsDomain, coffeeNS['Payment']), \n",
    "(coffeeNS['amount'], rdfsRange, xsdDouble),\n",
    "    \n",
    "(coffeeNS['paymentTime'], rdfType, owlDatatypeProperty), \n",
    "(coffeeNS['paymentTime'], rdfsDomain, coffeeNS['Payment']), \n",
    "(coffeeNS['paymentTime'], rdfsRange, xsdDateTime),\n",
    "    \n",
    "(coffeeNS['getListOf'], rdfType, owlDatatypeProperty), \n",
    "(coffeeNS['getListOf'], rdfsDomain, coffeeNS['Customer']), \n",
    "(coffeeNS['getListOf'], rdfsRange, coffeeNS['Coffee']),\n",
    "    \n",
    "(coffeeNS['generate'], rdfType, owlDatatypeProperty), \n",
    "(coffeeNS['generate'], rdfsDomain, coffeeNS['Customer']), \n",
    "(coffeeNS['generate'], rdfsRange, coffeeNS['Order']),\n",
    "    \n",
    "(coffeeNS['pay'], rdfType, owlDatatypeProperty), \n",
    "(coffeeNS['pay'], rdfsDomain, coffeeNS['Customer']), \n",
    "(coffeeNS['pay'], rdfsRange, coffeeNS['Payment']),\n",
    "    \n",
    "(coffeeNS['receive'], rdfType, owlDatatypeProperty), \n",
    "(coffeeNS['receive'], rdfsDomain, coffeeNS['Cashier']), \n",
    "(coffeeNS['receive'], rdfsRange, coffeeNS['Payment']),\n",
    "    \n",
    "(coffeeNS['updatePayment'], rdfType, owlDatatypeProperty), \n",
    "(coffeeNS['updatePayment'], rdfsDomain, coffeeNS['Cashier']), \n",
    "(coffeeNS['updatePayment'], rdfsRange, coffeeNS['Order']),\n",
    "    \n",
    "(coffeeNS['updateFinish'], rdfType, owlDatatypeProperty), \n",
    "(coffeeNS['updateFinish'], rdfsDomain, coffeeNS['Barista']), \n",
    "(coffeeNS['updateFinish'], rdfsRange, coffeeNS['Order']),\n",
    "    \n",
    "(coffeeNS['addInto'], rdfType, owlDatatypeProperty), \n",
    "(coffeeNS['addInto'], rdfsDomain, coffeeNS['Order']), \n",
    "(coffeeNS['addInto'], rdfsRange, coffeeNS['Entry']),\n",
    "    \n",
    "(coffeeNS['sendTo'], rdfType, owlDatatypeProperty), \n",
    "(coffeeNS['sendTo'], rdfsDomain, coffeeNS['Entry']), \n",
    "(coffeeNS['sendTo'], rdfsRange, coffeeNS['Barista']),\n",
    "    \n",
    "(coffeeNS['deleteFinished'], rdfType, owlDatatypeProperty), \n",
    "(coffeeNS['deleteFinished'], rdfsDomain, coffeeNS['Barista']), \n",
    "(coffeeNS['deleteFinished'], rdfsRange, coffeeNS['Entry']),\n",
    "    \n",
    "(coffeeNS['amend'], rdfType, owlDatatypeProperty), \n",
    "(coffeeNS['amend'], rdfsDomain, coffeeNS['Customer']), \n",
    "(coffeeNS['amend'], rdfsRange, coffeeNS['Order']),\n",
    "    \n",
    "(coffeeNS['cancel'], rdfType, owlDatatypeProperty), \n",
    "(coffeeNS['cancel'], rdfsDomain, coffeeNS['Customer']), \n",
    "(coffeeNS['cancel'], rdfsRange, coffeeNS['Order']),\n",
    "    \n",
    "(coffeeNS['staffID'], rdfType, owlDatatypeProperty), \n",
    "(coffeeNS['staffID'], rdfsDomain, coffeeNS['Staff']), \n",
    "(coffeeNS['staffID'], rdfsRange, xsdInt),\n",
    "    \n",
    "(coffeeNS['role'], rdfType, owlDatatypeProperty), \n",
    "(coffeeNS['role'], rdfsDomain, coffeeNS['Staff']), \n",
    "(coffeeNS['role'], rdfsRange, xsdString)\n",
    "]"
   ]
  },
  {
   "cell_type": "code",
   "execution_count": 40,
   "metadata": {},
   "outputs": [],
   "source": [
    "from rdflib import ConjunctiveGraph\n",
    "graph = ConjunctiveGraph()\n",
    "for triple in classTriples: \n",
    "    graph.add(triple)\n",
    "for triple in classHeirarchyTriples: \n",
    "    graph.add(triple) \n",
    "for triple in propertyTriples: \n",
    "    graph.add(triple)"
   ]
  },
  {
   "cell_type": "code",
   "execution_count": 41,
   "metadata": {},
   "outputs": [
    {
     "data": {
      "text/plain": [
       "set()"
      ]
     },
     "execution_count": 41,
     "metadata": {},
     "output_type": "execute_result"
    }
   ],
   "source": [
    "def isSubClassOf(subClass, superClass, graph):\n",
    "    if subClass == superClass: \n",
    "        return True\n",
    "    for parentClass in graph.objects(subClass, rdfsSubClassOf):\n",
    "        if isSubClassOf(parentClass, superClass, graph):\n",
    "            return True\n",
    "        else:\n",
    "            return False\n",
    "def findInstances(queryClass, graph, instances=None):\n",
    "    if instances is None: \n",
    "        instances = set()\n",
    "    for instance in graph.subjects(rdfType, queryClass): \n",
    "        instances.add(instance)\n",
    "    for subClass in graph.subjects(rdfsSubClassOf, queryClass):\n",
    "        findInstances(subClass, graph, instances) \n",
    "    return instances\n",
    "findInstances(personClass, graph)"
   ]
  },
  {
   "cell_type": "code",
   "execution_count": 42,
   "metadata": {},
   "outputs": [],
   "source": [
    "from rdflib import Literal\n",
    "filmTriples = [\n",
    "# order:\n",
    "(coffeeNS['07200270'], rdfType, coffeeNS['Order']),\n",
    "(coffeeNS['07200270'], coffeeNS['coffeeType'], Literal(\"Latte\", datatype=xsdString)),\n",
    "(coffeeNS['07200270'], coffeeNS['orderCost'], Literal(\"6.5\", datatype=xsdDouble)),\n",
    "(coffeeNS['07200270'], coffeeNS['quantity'], Literal(\"1\", datatype=xsdInt)),\n",
    "(coffeeNS['07200270'], coffeeNS['paymentStatus'], Literal(\"paid\", datatype=xsdString)),\n",
    "(coffeeNS['07200270'], coffeeNS['customer'], Literal(\"Tony\", datatype=xsdString)),\n",
    "(coffeeNS['07200270'], coffeeNS['finishStatus'], Literal(\"finished\", datatype=xsdString)),\n",
    "(coffeeNS['07200270'], coffeeNS['orderID'], Literal(\"07200270\", datatype=xsdInt)),\n",
    "(coffeeNS['07200270'], coffeeNS['orderTime'], Literal(\"2019-07-20T11:40:00\", datatype=xsdDateTime)),\n",
    "    \n",
    "(coffeeNS['07200324'], rdfType, coffeeNS['Order']),\n",
    "(coffeeNS['07200324'], coffeeNS['coffeeType'], Literal(\"Matcha\", datatype=xsdString)),\n",
    "(coffeeNS['07200324'], coffeeNS['orderCost'], Literal(\"5.5\", datatype=xsdDouble)),\n",
    "(coffeeNS['07200324'], coffeeNS['quantity'], Literal(\"1\", datatype=xsdInt)),\n",
    "(coffeeNS['07200324'], coffeeNS['paymentStatus'], Literal(\"unpaid\", datatype=xsdString)),\n",
    "(coffeeNS['07200324'], coffeeNS['customer'], Literal(\"Jim Hay\", datatype=xsdString)),\n",
    "(coffeeNS['07200324'], coffeeNS['finishStatus'], Literal(\"pending\", datatype=xsdString)),\n",
    "(coffeeNS['07200324'], coffeeNS['orderID'], Literal(\"07200324\", datatype=xsdInt)),\n",
    "(coffeeNS['07200324'], coffeeNS['orderTime'], Literal(\"2019-07-20T14:20:39\", datatype=xsdDateTime)),\n",
    "# coffee:\n",
    "(coffeeNS['Latte'], rdfType, coffeeNS['Coffee']), \n",
    "(coffeeNS['Latte'], coffeeNS['type'], Literal(\"Latte\", datatype=xsdString)), \n",
    "(coffeeNS['Latte'], coffeeNS['cost'], Literal(\"6.5\", datatype=xsdDouble)),\n",
    "(coffeeNS['Latte'], coffeeNS['size'], Literal(\"'regular/large'\", datatype=xsdString)),\n",
    "    \n",
    "(coffeeNS['Matcha'], rdfType, coffeeNS['Coffee']), \n",
    "(coffeeNS['Matcha'], coffeeNS['type'], Literal(\"Matcha\", datatype=xsdString)), \n",
    "(coffeeNS['Matcha'], coffeeNS['cost'], Literal(\"5.5\", datatype=xsdDouble)),\n",
    "(coffeeNS['Matcha'], coffeeNS['size'], Literal(\"regular/large\", datatype=xsdString)),\n",
    "# staff:\n",
    "(coffeeNS['Steve'], rdfType, coffeeNS['Staff']), \n",
    "(coffeeNS['Steve'], coffeeNS['staffID'], Literal(\"1006\", datatype=xsdInt)), \n",
    "(coffeeNS['Steve'], coffeeNS['role'], Literal(\"Cashier\", datatype=xsdString)),\n",
    "    \n",
    "(coffeeNS['Alan'], rdfType, coffeeNS['Staff']), \n",
    "(coffeeNS['Alan'], coffeeNS['staffID'], Literal(\"2008\", datatype=xsdInt)), \n",
    "(coffeeNS['Alan'], coffeeNS['role'], Literal(\"Barista\", datatype=xsdString)),\n",
    "# payment:\n",
    "(coffeeNS['1234567'], rdfType, coffeeNS['Payment']),\n",
    "(coffeeNS['1234567'], coffeeNS['orderID'], Literal(\"07200270\", datatype=xsdInt)), \n",
    "(coffeeNS['1234567'], coffeeNS['amount'], Literal(\"6.5\", datatype=xsdDouble)), \n",
    "(coffeeNS['1234567'], coffeeNS['paymentTime'], Literal(\"2019-07-20T11:44:00\", datatype=xsdDateTime))\n",
    "]\n",
    "for triple in filmTriples: \n",
    "    graph.add(triple)"
   ]
  },
  {
   "cell_type": "code",
   "execution_count": 43,
   "metadata": {},
   "outputs": [],
   "source": [
    "graph.serialize(destination='z5187447_coffeeshop.ttl', format='turtle')"
   ]
  },
  {
   "cell_type": "code",
   "execution_count": 44,
   "metadata": {},
   "outputs": [
    {
     "name": "stdout",
     "output_type": "stream",
     "text": [
      "(rdflib.term.URIRef('http://www.coffeeshop.com/coffee#07200270'),)\n"
     ]
    }
   ],
   "source": [
    "q1 = graph.query(\n",
    "    \"\"\"\n",
    "    PREFIX : <http://www.coffeeshop.com/coffee#>\n",
    "    PREFIX rdf: <http://www.w3.org/1999/02/22-rdf-syntax-ns#>\n",
    "    PREFIX owl: <http://www.w3.org/2002/07/owl#>\n",
    "    PREFIX rdfs: <http://www.w3.org/2000/01/rdf-schema#>\n",
    "    PREFIX xsd: <http://www.w3.org/2001/XMLSchema#>\n",
    "    SELECT ?od WHERE { \n",
    "        ?od rdf:type :Order.\n",
    "        ?od :orderTime ?ot.\n",
    "    FILTER (?ot < \"2019-07-20T12:00:00\"^^xsd:dateTime)\n",
    "    }\n",
    "    \"\"\")\n",
    "for row in q1:\n",
    "    print(row)"
   ]
  },
  {
   "cell_type": "code",
   "execution_count": 45,
   "metadata": {},
   "outputs": [
    {
     "name": "stdout",
     "output_type": "stream",
     "text": [
      "(rdflib.term.Literal('Tony', datatype=rdflib.term.URIRef('http://www.w3.org/2001/XMLSchema#string')),)\n",
      "(rdflib.term.Literal('Jim Hay', datatype=rdflib.term.URIRef('http://www.w3.org/2001/XMLSchema#string')),)\n"
     ]
    }
   ],
   "source": [
    "q2 = graph.query(\n",
    "    \"\"\"\n",
    "    PREFIX : <http://www.coffeeshop.com/coffee#>\n",
    "    PREFIX rdf: <http://www.w3.org/1999/02/22-rdf-syntax-ns#>\n",
    "    PREFIX owl: <http://www.w3.org/2002/07/owl#>\n",
    "    PREFIX rdfs: <http://www.w3.org/2000/01/rdf-schema#>\n",
    "    PREFIX xsd: <http://www.w3.org/2001/XMLSchema#>\n",
    "    SELECT ?cust WHERE { \n",
    "        ?od rdf:type :Order.\n",
    "        ?od :orderTime ?ot.\n",
    "        ?od :customer ?cust.\n",
    "    FILTER (?ot > \"2019-07-20T00:00:00\"^^xsd:dateTime)\n",
    "    FILTER (?ot < \"2019-07-21T00:00:00\"^^xsd:dateTime)\n",
    "    }\n",
    "    \"\"\")\n",
    "for row in q2:\n",
    "    print(row)"
   ]
  },
  {
   "cell_type": "code",
   "execution_count": 46,
   "metadata": {},
   "outputs": [
    {
     "name": "stdout",
     "output_type": "stream",
     "text": [
      "(rdflib.term.Literal('Matcha', datatype=rdflib.term.URIRef('http://www.w3.org/2001/XMLSchema#string')), rdflib.term.Literal('5.5', datatype=rdflib.term.URIRef('http://www.w3.org/2001/XMLSchema#double')))\n",
      "(rdflib.term.Literal('Latte', datatype=rdflib.term.URIRef('http://www.w3.org/2001/XMLSchema#string')), rdflib.term.Literal('6.5', datatype=rdflib.term.URIRef('http://www.w3.org/2001/XMLSchema#double')))\n"
     ]
    }
   ],
   "source": [
    "q3 = graph.query(\n",
    "    \"\"\"\n",
    "    PREFIX : <http://www.coffeeshop.com/coffee#>\n",
    "    PREFIX rdf: <http://www.w3.org/1999/02/22-rdf-syntax-ns#>\n",
    "    PREFIX owl: <http://www.w3.org/2002/07/owl#>\n",
    "    PREFIX rdfs: <http://www.w3.org/2000/01/rdf-schema#>\n",
    "    PREFIX xsd: <http://www.w3.org/2001/XMLSchema#>\n",
    "    SELECT ?typ ?pri WHERE { \n",
    "    ?cof rdf:type :Coffee.\n",
    "    ?cof :type ?typ.\n",
    "    ?cof :cost ?pri.\n",
    "    }\n",
    "    \"\"\")\n",
    "for row in q3:\n",
    "    print(row)"
   ]
  },
  {
   "cell_type": "code",
   "execution_count": 47,
   "metadata": {
    "scrolled": true
   },
   "outputs": [
    {
     "name": "stdout",
     "output_type": "stream",
     "text": [
      "(rdflib.term.URIRef('http://www.coffeeshop.com/coffee#Alan'), rdflib.term.Literal('Barista', datatype=rdflib.term.URIRef('http://www.w3.org/2001/XMLSchema#string')))\n",
      "(rdflib.term.URIRef('http://www.coffeeshop.com/coffee#Steve'), rdflib.term.Literal('Cashier', datatype=rdflib.term.URIRef('http://www.w3.org/2001/XMLSchema#string')))\n"
     ]
    }
   ],
   "source": [
    "q4 = graph.query(\n",
    "    \"\"\"\n",
    "    PREFIX : <http://www.coffeeshop.com/coffee#>\n",
    "    PREFIX rdf: <http://www.w3.org/1999/02/22-rdf-syntax-ns#>\n",
    "    PREFIX owl: <http://www.w3.org/2002/07/owl#>\n",
    "    PREFIX rdfs: <http://www.w3.org/2000/01/rdf-schema#>\n",
    "    PREFIX xsd: <http://www.w3.org/2001/XMLSchema#>\n",
    "    SELECT ?ep ?rol WHERE { \n",
    "    ?ep rdf:type :Staff.\n",
    "    ?ep :role ?rol.\n",
    "    }\n",
    "    \"\"\")\n",
    "for row in q4:\n",
    "    print(row)"
   ]
  },
  {
   "cell_type": "code",
   "execution_count": 48,
   "metadata": {},
   "outputs": [
    {
     "name": "stdout",
     "output_type": "stream",
     "text": [
      "(rdflib.term.Literal('Matcha', datatype=rdflib.term.URIRef('http://www.w3.org/2001/XMLSchema#string')), rdflib.term.Literal('1', datatype=rdflib.term.URIRef('http://www.w3.org/2001/XMLSchema#integer')))\n"
     ]
    }
   ],
   "source": [
    "q5 = graph.query(\n",
    "    \"\"\"\n",
    "    PREFIX : <http://www.coffeeshop.com/coffee#>\n",
    "    PREFIX rdf: <http://www.w3.org/1999/02/22-rdf-syntax-ns#>\n",
    "    PREFIX owl: <http://www.w3.org/2002/07/owl#>\n",
    "    PREFIX rdfs: <http://www.w3.org/2000/01/rdf-schema#>\n",
    "    PREFIX xsd: <http://www.w3.org/2001/XMLSchema#>\n",
    "    SELECT ?cof_typ (COUNT(*) AS ?amount)\n",
    "    WHERE { \n",
    "    ?od rdf:type :Order.\n",
    "    ?od :customer ?cust.\n",
    "    ?od :coffeeType ?cof_typ.\n",
    "    FILTER (?cust = 'Jim Hay').\n",
    "    }\n",
    "    GROUP BY ?cof_typ\n",
    "    ORDER BY DESC(?amount)\n",
    "    LIMIT 1\n",
    "    \"\"\")\n",
    "for row in q5:\n",
    "    print(row)"
   ]
  }
 ],
 "metadata": {
  "kernelspec": {
   "display_name": "Python 3",
   "language": "python",
   "name": "python3"
  },
  "language_info": {
   "codemirror_mode": {
    "name": "ipython",
    "version": 3
   },
   "file_extension": ".py",
   "mimetype": "text/x-python",
   "name": "python",
   "nbconvert_exporter": "python",
   "pygments_lexer": "ipython3",
   "version": "3.7.3"
  }
 },
 "nbformat": 4,
 "nbformat_minor": 2
}
